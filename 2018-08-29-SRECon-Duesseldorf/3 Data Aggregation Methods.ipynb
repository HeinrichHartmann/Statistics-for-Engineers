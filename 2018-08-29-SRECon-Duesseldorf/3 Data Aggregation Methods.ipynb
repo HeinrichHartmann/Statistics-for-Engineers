{
 "cells": [
  {
   "cell_type": "code",
   "execution_count": 2,
   "metadata": {},
   "outputs": [],
   "source": [
    "%run prelude.py\n",
    "%matplotlib inline"
   ]
  },
  {
   "cell_type": "markdown",
   "metadata": {},
   "source": [
    "# Data Agregation Methods"
   ]
  },
  {
   "cell_type": "markdown",
   "metadata": {},
   "source": [
    "## (1) Count\n",
    "\n",
    "The way to aggregate data is to count the samples in the datasets."
   ]
  },
  {
   "cell_type": "code",
   "execution_count": 3,
   "metadata": {},
   "outputs": [],
   "source": [
    "def count(X):\n",
    "    return len(X)\n",
    "\n",
    "def count_below(X, y):\n",
    "    return len([x for x in X if x < y])\n",
    "\n",
    "def ratio_below(X, y):\n",
    "    return count_below(X,y)/count(X)"
   ]
  },
  {
   "cell_type": "code",
   "execution_count": 4,
   "metadata": {},
   "outputs": [
    {
     "data": {
      "image/png": "[encoded data removed]",
      "text/plain": [
       "<matplotlib.figure.Figure at 0x7efca93f72e8>"
      ]
     },
     "metadata": {},
     "output_type": "display_data"
    }
   ],
   "source": [
    "X = np.loadtxt(\"../datasets/RequestRates.csv\", delimiter=\",\")[:,1]\n",
    "plt.figure(figsize=(20,1))\n",
    "plt.xlim(0,3000)\n",
    "sns.rugplot(X,1);"
   ]
  },
  {
   "cell_type": "code",
   "execution_count": 5,
   "metadata": {},
   "outputs": [
    {
     "name": "stdout",
     "output_type": "stream",
     "text": [
      "Total count: 76\n"
     ]
    }
   ],
   "source": [
    "print(\"Total count:\", count(X))"
   ]
  },
  {
   "cell_type": "code",
   "execution_count": 6,
   "metadata": {},
   "outputs": [
    {
     "data": {
      "image/png": "[encoded data removed]",
      "text/plain": [
       "<matplotlib.figure.Figure at 0x7efca7273a90>"
      ]
     },
     "metadata": {},
     "output_type": "display_data"
    }
   ],
   "source": [
    "plt.figure(figsize=(20,5))\n",
    "plt.title(\"ratio_below() on RequestRates.csv\")\n",
    "grid = np.linspace(0,3000,100)\n",
    "# plt.plot(grid, [count_below(X,y) for y in grid])\n",
    "plt.plot(grid, [ratio_below(X,y) for y in grid])\n",
    "sns.rugplot(X);"
   ]
  },
  {
   "cell_type": "markdown",
   "metadata": {
    "slideshow": {
     "slide_type": "slide"
    }
   },
   "source": [
    "## Fancy Names\n",
    "\n",
    "The function `ratio_below(X,y)` also has fancy names:\n",
    "\n",
    "* Empirical Cumulative Distribution Function (CDF)\n",
    "\n",
    "* Inverse Percentile"
   ]
  },
  {
   "cell_type": "markdown",
   "metadata": {},
   "source": [
    "## Properties\n",
    "\n",
    "### Mergability\n",
    "\n",
    "* Counts are mergable: `count(X + Y) == count(X) + count(Y)`\n",
    "* count_below() / count_above() is also mergable: `count_below(X + Y, y) == count(X,y) + count(Y,y)`\n",
    "* ratio_below() is not mergable (on the nose), you need to remember the total count.\n",
    "\n",
    "### Robustness\n",
    "\n",
    "* count(X) is not affected by outliers at all.\n",
    "* count_below() is robust: `count_below(X,x)` changes by max +/-1 if an outlier is added to the dataset.\n",
    "* ratio_below() is robust as well."
   ]
  },
  {
   "cell_type": "markdown",
   "metadata": {},
   "source": [
    "## Application:\n",
    "\n",
    "- Count unhappy users: https://www.circonus.com/2016/06/percentages-arent-people/\n",
    "  ![](../img/unhappy-users.png)\n",
    "  Demo: https://demo.circonus.com/trending/graphs/view/5209437e-6fa9-4964-aa0b-2c59eb461cfa\n",
    "\n",
    "- Banded Metrics (e.g. [VividCortex](https://www.slideshare.net/vividcortex/monitoring-with-percentiles)\n",
    "  ![](../img/banded-metrics.png)\n",
    "\n",
    "- Histogram Substitutes (e.g. [Prometheus](https://prometheus.io/docs/concepts/metric_types/#histogram))  \n",
    "  Seems problematic: http://linuxczar.net/blog/2016/12/31/prometheus-histograms/\n"
   ]
  },
  {
   "cell_type": "markdown",
   "metadata": {
    "nbpresent": {
     "id": "e45021d3-f422-4831-9e82-69a390cdfe53"
    },
    "slideshow": {
     "slide_type": "slide"
    }
   },
   "source": [
    "# (2) Mean Values\n",
    "\n",
    "The _mean value_ of $X=[x_1, \\dots, x_n]$ is defined as\n",
    "\n",
    "$$ \\mu = mean(X) = \\frac{1}{n} \\sum_{i=1}^n x_i. $$\n",
    "\n",
    "- Represents center of mass\n",
    "- If the values are close together this is a good representative"
   ]
  },
  {
   "cell_type": "code",
   "execution_count": 7,
   "metadata": {
    "slideshow": {
     "slide_type": "slide"
    }
   },
   "outputs": [],
   "source": [
    "# Computation of the mean value\n",
    "\n",
    "def mean(X):\n",
    "    return float(sum(X)) / len(X)"
   ]
  },
  {
   "cell_type": "code",
   "execution_count": 8,
   "metadata": {},
   "outputs": [
    {
     "data": {
      "text/plain": [
       "<matplotlib.axes._subplots.AxesSubplot at 0x7efca6f40e80>"
      ]
     },
     "execution_count": 8,
     "metadata": {},
     "output_type": "execute_result"
    },
    {
     "data": {
      "image/png": "[encoded data removed]",
      "text/plain": [
       "<matplotlib.figure.Figure at 0x7efca6f40dd8>"
      ]
     },
     "metadata": {},
     "output_type": "display_data"
    }
   ],
   "source": [
    "X = np.loadtxt(\"../datasets/RequestRates.csv\", delimiter=\",\")[:,1]\n",
    "plt.figure(figsize=(20,1))\n",
    "plt.xlim(0,3000)\n",
    "plt.plot([mean(X),mean(X)],[0,2],'r-')\n",
    "sns.rugplot(X,height=.5)"
   ]
  },
  {
   "cell_type": "code",
   "execution_count": 8,
   "metadata": {},
   "outputs": [
    {
     "data": {
      "text/plain": [
       "<matplotlib.axes._subplots.AxesSubplot at 0x7fb5cdabd2e8>"
      ]
     },
     "execution_count": 8,
     "metadata": {},
     "output_type": "execute_result"
    },
    {
     "data": {
      "image/png": "[encoded data removed]",
      "text/plain": [
       "<matplotlib.figure.Figure at 0x7fb5cdabd390>"
      ]
     },
     "metadata": {},
     "output_type": "display_data"
    }
   ],
   "source": [
    "X = np.genfromtxt(\"../datasets/WebLatency.csv\", delimiter=\",\")[:,2][0:500] - 85\n",
    "plt.figure(figsize=(20,1))\n",
    "plt.xlim(0,500)\n",
    "plt.plot([mean(X),mean(X)],[0,2],'r-')\n",
    "sns.rugplot(X,height=.5)"
   ]
  },
  {
   "cell_type": "code",
   "execution_count": 9,
   "metadata": {
    "scrolled": true,
    "slideshow": {
     "slide_type": "slide"
    }
   },
   "outputs": [
    {
     "data": {
      "text/plain": [
       "<matplotlib.axes._subplots.AxesSubplot at 0x7fb5cdbcd048>"
      ]
     },
     "execution_count": 9,
     "metadata": {},
     "output_type": "execute_result"
    },
    {
     "data": {
      "image/png": "[encoded data removed]",
      "text/plain": [
       "<matplotlib.figure.Figure at 0x7fb5cdbcd550>"
      ]
     },
     "metadata": {},
     "output_type": "display_data"
    }
   ],
   "source": [
    "# Mean values can be atypical\n",
    "X=[1,2,3,100,102]\n",
    "plt.figure(figsize=(20,1))\n",
    "plt.xlim(0,120)\n",
    "plt.plot([mean(X),mean(X)],[0,2],'r-')\n",
    "sns.rugplot(X,height=.5)"
   ]
  },
  {
   "cell_type": "markdown",
   "metadata": {},
   "source": [
    "## Properties\n",
    "\n",
    "* Mean values are not robust, a single outlier can skew the mean heavily.\n",
    "\n",
    "* Mean values are mergable, if considered along with the count.\n"
   ]
  },
  {
   "cell_type": "markdown",
   "metadata": {},
   "source": [
    "# Applications\n",
    "\n",
    "* Main rollup aggregate used everywhere\n",
    "* Used a lot for Graphing\n",
    "* Caution with Spike Erosion: https://www.circonus.com/2016/01/spike-erosion/\n",
    "*  \"Because looking at your average response time is like measuring the average temperature of a hospital. What you really care about is a patient’s temperature, and in particular, the patients who need the most help.\" - Dogan Ugurlu - https://blog.optimizely.com/2013/12/11/why-cdn-balancing/\n"
   ]
  },
  {
   "cell_type": "markdown",
   "metadata": {
    "slideshow": {
     "slide_type": "slide"
    }
   },
   "source": [
    "# (3) Median Vaules\n",
    "\n",
    "A _median value_ for $x_1, \\dots, x_n$ is number $m$ such that\n",
    "  \n",
    " $$ \\# \\{ i \\,|\\, x_i \\lt m \\} = \\# \\{ i \\,|\\, x_i \\gt m \\}. $$\n",
    "\n",
    "So the number of samples smaller than $m$ is equal to the number of samples larger than $m$.\n",
    "(Both should be roughly $n/2$).\n",
    "  \n",
    "Remark:\n",
    "\n",
    "* A Median always exists\n",
    "* Median is not always unique\n",
    "* Less \"precise\" then the mean for well behaved datasets"
   ]
  },
  {
   "cell_type": "markdown",
   "metadata": {
    "slideshow": {
     "slide_type": "slide"
    }
   },
   "source": [
    "# The central median\n",
    "\n",
    "Medians can be computed by sorting the dataset.\n",
    "\n",
    "`S = sorted(X)`\n",
    "\n",
    "Consider the following cases:\n",
    "\n",
    "- if `len(X)` is odd, then `S[(len(X)-1)/2]` is the (unique and) central median.\n",
    "- if `len(X)` is even, then all values between `S[len(X)/2-1]` and `S[len(X)/2]` are median values.  \n",
    "  The central median is defined as the mean of those two values.\n",
    "\n",
    "We write $median(X)$ for the central median of $X$.\n",
    "\n",
    "Example:\n",
    "* `median([1,2,3]) = 2`\n",
    "* `median([1,2]) = (1 + 2) / 2`"
   ]
  },
  {
   "cell_type": "markdown",
   "metadata": {},
   "source": [
    "## Properties\n",
    "\n",
    "* Median values are robust, a single outlier not affect a median much.\n",
    "\n",
    "* Median values are not mergable."
   ]
  },
  {
   "cell_type": "code",
   "execution_count": 9,
   "metadata": {
    "slideshow": {
     "slide_type": "slide"
    }
   },
   "outputs": [],
   "source": [
    "# Computation of the median\n",
    "def median_range(X):\n",
    "    S = sorted(X)\n",
    "    n = len(X)\n",
    "    lower_mid = int(math.floor((n-1)/2.))\n",
    "    upper_mid = int(math.ceil((n-1)/2.))\n",
    "    return (S[lower_mid], S[upper_mid])\n",
    "\n",
    "def median(X):\n",
    "    a,b = median_range(X)\n",
    "    return (a+b)/2"
   ]
  },
  {
   "cell_type": "code",
   "execution_count": 10,
   "metadata": {
    "slideshow": {
     "slide_type": "skip"
    }
   },
   "outputs": [],
   "source": [
    "def plot_median_range(X):\n",
    "    plt.figure(figsize=(14,1))\n",
    "    a, b = median_range(X)\n",
    "    c = (a+b)/2.\n",
    "    sns.rugplot(X, color=\"green\", height=0.5)\n",
    "    plt.plot([a,a],[0.5,1],'r-')\n",
    "    plt.plot([b,b],[0.5,1],'r-')\n",
    "    plt.plot([c,c],[0.5,1],'r-')\n",
    "    plt.plot([a,b],[0.5,0.5],'r--')\n",
    "    plt.title(\"Median Range: {:.3f} .. {:,.3f}\".format(a,b))\n",
    "    plt.ylim([0,1])"
   ]
  },
  {
   "cell_type": "code",
   "execution_count": 11,
   "metadata": {
    "slideshow": {
     "slide_type": "slide"
    }
   },
   "outputs": [
    {
     "data": {
      "image/png": "[encoded data removed]",
      "text/plain": [
       "<matplotlib.figure.Figure at 0x7efca702c400>"
      ]
     },
     "metadata": {},
     "output_type": "display_data"
    }
   ],
   "source": [
    "plot_median_range([1,2,3])"
   ]
  },
  {
   "cell_type": "code",
   "execution_count": 12,
   "metadata": {
    "scrolled": false,
    "slideshow": {
     "slide_type": "slide"
    }
   },
   "outputs": [
    {
     "data": {
      "image/png": "[encoded data removed]",
      "text/plain": [
       "<matplotlib.figure.Figure at 0x7efca70546a0>"
      ]
     },
     "metadata": {},
     "output_type": "display_data"
    }
   ],
   "source": [
    "plot_median_range([1,2,3,4])"
   ]
  },
  {
   "cell_type": "markdown",
   "metadata": {},
   "source": [
    "# Examples: Median"
   ]
  },
  {
   "cell_type": "code",
   "execution_count": 13,
   "metadata": {},
   "outputs": [
    {
     "data": {
      "text/plain": [
       "<matplotlib.axes._subplots.AxesSubplot at 0x7efca7013710>"
      ]
     },
     "execution_count": 13,
     "metadata": {},
     "output_type": "execute_result"
    },
    {
     "data": {
      "image/png": "[encoded data removed]",
      "text/plain": [
       "<matplotlib.figure.Figure at 0x7efca7013eb8>"
      ]
     },
     "metadata": {},
     "output_type": "display_data"
    }
   ],
   "source": [
    "X = np.loadtxt(\"../datasets/RequestRates.csv\", delimiter=\",\")[:,1]\n",
    "plt.figure(figsize=(20,2))\n",
    "plt.xlim(0,3000)\n",
    "plt.plot([median(X),median(X)],[0,2],'r-')\n",
    "sns.rugplot(X,height=.5)"
   ]
  },
  {
   "cell_type": "code",
   "execution_count": 14,
   "metadata": {},
   "outputs": [
    {
     "data": {
      "text/plain": [
       "<matplotlib.axes._subplots.AxesSubplot at 0x7efca6c569b0>"
      ]
     },
     "execution_count": 14,
     "metadata": {},
     "output_type": "execute_result"
    },
    {
     "data": {
      "image/png": "[encoded data removed]",
      "text/plain": [
       "<matplotlib.figure.Figure at 0x7efca6c56b00>"
      ]
     },
     "metadata": {},
     "output_type": "display_data"
    }
   ],
   "source": [
    "X = np.genfromtxt(\"../datasets/WebLatency.csv\", delimiter=\",\")[:,2][0:500] - 85\n",
    "plt.figure(figsize=(20,2))\n",
    "plt.xlim(0,500)\n",
    "plt.plot([median(X),median(X)],[0,2],'r-')\n",
    "sns.rugplot(X,height=.5)"
   ]
  },
  {
   "cell_type": "markdown",
   "metadata": {
    "slideshow": {
     "slide_type": "slide"
    }
   },
   "source": [
    "# Aside: Truncated Means\n",
    "\n",
    "* Truncated means \"interpolate\" between means and medians.\n",
    "* In many cases they provide the increased \"precision\" of means, while keeping the robustness against outliers.\n",
    "\n",
    "To arrive at the k-truncated mean of a dataset X, perform the following steps:\n",
    "* Remove a minimum and a maximum value from X, a total of k times.\n",
    "* The remaining samples are called the k-truncation of X and denoted by $T_k X$.\n",
    "* Caculate the mean value of the remaining samples.\n",
    "\n",
    "We deonte the k-truncated mean by `tmean(X,k)`."
   ]
  },
  {
   "cell_type": "code",
   "execution_count": 15,
   "metadata": {
    "slideshow": {
     "slide_type": "slide"
    }
   },
   "outputs": [],
   "source": [
    "def tmean(X,k):\n",
    "    X = list(X)\n",
    "    k = int(k)\n",
    "    if len(X) <= 2*k:\n",
    "        return None\n",
    "    for i in range(k):\n",
    "        X.remove(max(X))\n",
    "        X.remove(min(X))\n",
    "    return mean(X)"
   ]
  },
  {
   "cell_type": "code",
   "execution_count": 16,
   "metadata": {
    "scrolled": true,
    "slideshow": {
     "slide_type": "slide"
    }
   },
   "outputs": [
    {
     "name": "stdout",
     "output_type": "stream",
     "text": [
      "22.2\n",
      "3.3333333333333335\n",
      "3.0\n"
     ]
    }
   ],
   "source": [
    "# Truncated mean examples\n",
    "print(tmean([1,2,3,5,100],0))\n",
    "print(tmean([1,2,3,5,100],1))\n",
    "print(tmean([1,2,3,5,100],2))"
   ]
  },
  {
   "cell_type": "code",
   "execution_count": 17,
   "metadata": {
    "nbpresent": {
     "id": "150f1522-96cb-4ea6-ba08-e9a4acb9554c"
    },
    "slideshow": {
     "slide_type": "skip"
    }
   },
   "outputs": [],
   "source": [
    "# Plot\n",
    "def mark(m,height=1,style='r'):\n",
    "    plt.plot([m,m],[0,height],style)\n",
    "\n",
    "def plot_mean_median(X, title):\n",
    "    plt.figure(figsize=(14,1))\n",
    "    plt.title(title)\n",
    "    print(\"###  \" + title + \" ###\")\n",
    "    sns.rugplot(X, color='grey', height=0.5)\n",
    "    mark(mean(X));                     print(\"mean:        {:4.2f} (red)\".format(mean(X)))\n",
    "    k = int(math.ceil(10*len(X)/100.))\n",
    "    mark(tmean(X,k), style='b');       print(\"tmean(X,{:2}): {:4.2f} (blue)\".format(k,tmean(X,k)))\n",
    "    mark(median(X), style='g');        print(\"median:      {:4.2f} (green)\".format(median(X)))\n",
    "    plt.show()"
   ]
  },
  {
   "cell_type": "markdown",
   "metadata": {},
   "source": [
    "# Comparison of Centrality Measures"
   ]
  },
  {
   "cell_type": "code",
   "execution_count": 18,
   "metadata": {
    "slideshow": {
     "slide_type": "slide"
    }
   },
   "outputs": [
    {
     "name": "stdout",
     "output_type": "stream",
     "text": [
      "###  Normal data ###\n",
      "mean:        -0.02 (red)\n",
      "tmean(X,50): -0.05 (blue)\n",
      "median:      -0.09 (green)\n"
     ]
    },
    {
     "data": {
      "image/png": "[encoded data removed]",
      "text/plain": [
       "<matplotlib.figure.Figure at 0x7efca734b710>"
      ]
     },
     "metadata": {},
     "output_type": "display_data"
    },
    {
     "name": "stdout",
     "output_type": "stream",
     "text": [
      "###  Request rates ###\n",
      "mean:        1316.31 (red)\n",
      "tmean(X, 8): 1315.61 (blue)\n",
      "median:      1399.66 (green)\n"
     ]
    },
    {
     "data": {
      "image/png": "[encoded data removed]",
      "text/plain": [
       "<matplotlib.figure.Figure at 0x7efca7198c18>"
      ]
     },
     "metadata": {},
     "output_type": "display_data"
    },
    {
     "name": "stdout",
     "output_type": "stream",
     "text": [
      "###  Web Latency ###\n",
      "mean:        45.77 (red)\n",
      "tmean(X,10): 30.52 (blue)\n",
      "median:      29.10 (green)\n"
     ]
    },
    {
     "data": {
      "image/png": "[encoded data removed]",
      "text/plain": [
       "<matplotlib.figure.Figure at 0x7efca64757b8>"
      ]
     },
     "metadata": {},
     "output_type": "display_data"
    }
   ],
   "source": [
    "Z = [ np.random.normal() for x in range(500) ]\n",
    "plot_mean_median(Z, \"Normal data\")\n",
    "\n",
    "X = np.loadtxt(\"../datasets/RequestRates.csv\", delimiter=\",\")[:,1]\n",
    "plot_mean_median(X, \"Request rates\")\n",
    "\n",
    "Y = np.genfromtxt(\"../datasets/WebLatency.csv\", delimiter=\",\")[:,2][0:500] - 85\n",
    "plot_mean_median(Y[0:100], \"Web Latency\")"
   ]
  },
  {
   "cell_type": "markdown",
   "metadata": {
    "slideshow": {
     "slide_type": "slide"
    }
   },
   "source": [
    "# (5) Percentiles\n",
    "\n",
    "The definition is a little involved so cover examples first\n",
    "\n",
    "* The minimum is a 0%-percentile\n",
    "* A median is a 50%-percentile\n",
    "* The maximum is a 100%-percentile\n",
    "* Quartiles: $0,25,50,75,100$-percentiles\n",
    "* Quantiles: The $r$-quantile is the $r \\times 100$-percentile $0<r<1$."
   ]
  },
  {
   "cell_type": "markdown",
   "metadata": {},
   "source": [
    "# General Definition of Percentiles\n",
    "\n",
    "Pick a number $0\\leq p \\leq 100$. A $p$%-percentile for $X$ is a value $y$ such that,\n",
    "\n",
    "$$ \\#\\{i \\,|\\, X[i] \\lt y \\} \\leq \\frac{p}{100} \\cdot n $$\n",
    "\n",
    "and\n",
    "\n",
    "$$ \\#\\{i \\,|\\, X[i] \\gt y \\} \\leq \\frac{100-p}{100} \\cdot n $$\n",
    "\n",
    "Roughly speaking, $y$ divides $X$ in $p\\%$ samples that are lower than $y$ and $(100-p)\\%$ samples that are larger than $y$."
   ]
  },
  {
   "cell_type": "markdown",
   "metadata": {
    "slideshow": {
     "slide_type": "slide"
    }
   },
   "source": [
    "Remarks:\n",
    "\n",
    "* Percentiles always exists\n",
    "* Non unique (like median)\n",
    "* Lot's of ways to choose a quantile function, i.e. interpolate between $s_a$ and $s_b$ cf.  \n",
    "  http://en.wikipedia.org/wiki/Quantile#Estimating_the_quantiles_of_a_population"
   ]
  },
  {
   "cell_type": "code",
   "execution_count": 19,
   "metadata": {
    "slideshow": {
     "slide_type": "slide"
    }
   },
   "outputs": [],
   "source": [
    "# Computation of Quantiles\n",
    "def percentile_range(p,X):\n",
    "    q = p/100.0\n",
    "    S = sorted(X)\n",
    "    n = len(X)\n",
    "    upper_d = int(math.ceil(q * (n + 1)))\n",
    "    lower_d = int(math.floor(q * (n + 1)))\n",
    "    # edge cases\n",
    "    if upper_d == 0:   upper_d = 1\n",
    "    if upper_d == n+1: upper_d = n\n",
    "    if lower_d == 0:   lower_d = 1\n",
    "    if lower_d == n+1: lower_d = n\n",
    "    return (S[lower_d-1], S[upper_d-1])\n",
    "\n",
    "def percentile(p,X):\n",
    "    a,b = percentile_range(p,X)\n",
    "    return (a+b)/2 # mid point percentile. One choice!"
   ]
  },
  {
   "cell_type": "code",
   "execution_count": 20,
   "metadata": {
    "slideshow": {
     "slide_type": "skip"
    }
   },
   "outputs": [],
   "source": [
    "def mark_range(a,b):\n",
    "    plt.plot([a,a],[0.5,1],'r-')\n",
    "    plt.plot([b,b],[0.5,1],'r-')\n",
    "    plt.plot([a,b],[0.75,0.75],'r--')\n",
    "\n",
    "def plot_percentile_range(p,X):\n",
    "    plt.figure(figsize=(14,2))\n",
    "    sns.rugplot(X, color=\"green\", height=0.5)\n",
    "    a,b = percentile_range(p,X)\n",
    "    mark_range(a,b)\n",
    "    plt.title(\"{:n}%-Percentile Range: {:.3f} .. {:,.3f}\".format(p, a,b))\n",
    "    plt.ylim([0,1])"
   ]
  },
  {
   "cell_type": "code",
   "execution_count": 21,
   "metadata": {
    "slideshow": {
     "slide_type": "slide"
    }
   },
   "outputs": [
    {
     "data": {
      "image/png": "[encoded data removed]",
      "text/plain": [
       "<matplotlib.figure.Figure at 0x7efca734bd68>"
      ]
     },
     "metadata": {},
     "output_type": "display_data"
    }
   ],
   "source": [
    "plot_percentile_range(50,[1,2,3,4])"
   ]
  },
  {
   "cell_type": "code",
   "execution_count": 22,
   "metadata": {
    "slideshow": {
     "slide_type": "slide"
    }
   },
   "outputs": [
    {
     "data": {
      "image/png": "[encoded data removed]",
      "text/plain": [
       "<matplotlib.figure.Figure at 0x7efca5f3ce80>"
      ]
     },
     "metadata": {},
     "output_type": "display_data"
    }
   ],
   "source": [
    "plot_percentile_range(40,[1,2,3,4])"
   ]
  },
  {
   "cell_type": "code",
   "execution_count": 24,
   "metadata": {
    "scrolled": true,
    "slideshow": {
     "slide_type": "slide"
    }
   },
   "outputs": [
    {
     "data": {
      "image/png": "[encoded data removed]",
      "text/plain": [
       "<matplotlib.figure.Figure at 0x7fb5cc916a20>"
      ]
     },
     "metadata": {},
     "output_type": "display_data"
    }
   ],
   "source": [
    "plot_percentile_range(90,X)"
   ]
  },
  {
   "cell_type": "markdown",
   "metadata": {},
   "source": [
    "# Properties\n",
    "\n",
    "* Percentiles are robust.\n",
    "* Precentiles are not mergable (except: min/max)"
   ]
  },
  {
   "cell_type": "markdown",
   "metadata": {},
   "source": [
    "# Applications\n",
    "\n",
    "* Service Level Monitoring: p99, p95 ([Dynamo paper](https://www.allthingsdistributed.com/2007/10/amazons_dynamo.html))\n",
    "\n",
    "* Deviation measures (cf. next section)"
   ]
  },
  {
   "cell_type": "markdown",
   "metadata": {},
   "source": [
    "# Percentiles can't be Aggregated\n",
    "\n",
    "* Blog: www.circonus.com/problem-math/\n",
    "\n",
    "* Twitter: https://twitter.com/heinrichhartman/status/748562001392111617\n",
    "\n",
    "* Reddit: https://www.reddit.com/r/devops/comments/941n2k/tsdbs_at_scale_part_one/e3po8d3/"
   ]
  },
  {
   "cell_type": "markdown",
   "metadata": {},
   "source": [
    "# Summary:\n",
    "\n",
    "| Statistic | Mergable | Robust |\n",
    "|--|--|--|\n",
    "| count | yes | yes |\n",
    "| mean  | yes | no  |\n",
    "| median | no | yes |\n",
    "| truncated mean | no | yes |\n",
    "| max/min | yes | no |\n",
    "| percentile | no | yes |\n",
    "\n",
    "It looks like you have to choose between robust and mergable statistics."
   ]
  }
 ],
 "metadata": {
  "kernelspec": {
   "display_name": "Python 3",
   "language": "python",
   "name": "python3"
  },
  "language_info": {
   "codemirror_mode": {
    "name": "ipython",
    "version": 3
   },
   "file_extension": ".py",
   "mimetype": "text/x-python",
   "name": "python",
   "nbconvert_exporter": "python",
   "pygments_lexer": "ipython3",
   "version": "3.6.4"
  }
 },
 "nbformat": 4,
 "nbformat_minor": 2
}
